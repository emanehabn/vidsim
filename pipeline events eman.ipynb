{
 "cells": [
  {
   "cell_type": "code",
   "execution_count": 2,
   "id": "fee10d14",
   "metadata": {},
   "outputs": [],
   "source": [
    "import os\n",
    "\n",
    "from PIL import ImageFile\n",
    "\n",
    "ImageFile.LOAD_TRUNCATED_IMAGES = True\n",
    "os.environ['CUDA_DEVICE_ORDER'] = 'PCI_BUS_ID'\n",
    "\n",
    "\n",
    "from operator import sub\n",
    "import os\n",
    "import cv2\n",
    "import glob\n",
    "import tqdm\n",
    "import torch\n",
    "import glob\n",
    "import numpy as np\n",
    "import matplotlib.pyplot as plt\n",
    "from PIL import Image\n",
    "\n",
    "from upsampling.utils import Upsampler\n",
    "from esim_torch import esim_torch"
   ]
  },
  {
   "cell_type": "markdown",
   "id": "d808032e",
   "metadata": {},
   "source": [
    "Generating Images from a Video File\n",
    "\n",
    "https://github.com/uzh-rpg/rpg_vid2e/tree/master/upsampling\n",
    "\n",
    "If you want to convert a video file to a sequence of images:\n",
    "\n",
    "input_file = /home/eman/Documents/AUC/ESIM/rpg_vid2e/pie_example/rgb/video_0001.mp4\n",
    "output_dirpath=/home/eman/Documents/AUC/ESIM/rpg_vid2e/pie_example/origional/\n",
    "ffmpeg -i $input_file \"$output_dirpath/%08d.png\n",
    "\n",
    "\n",
    "#----------------------------------------------------------------\n"
   ]
  },
  {
   "cell_type": "markdown",
   "id": "2feaadb6",
   "metadata": {},
   "source": [
    "As an example input video, we will use this nice video from National Geographic, which shows a running cheetah recorded at 1200 frames per second with a Phantom camera.\n",
    "\n",
    "https://github.com/uzh-rpg/rpg_esim/wiki/Simulating-events-from-a-video\n",
    "\n",
    "\n",
    "\n",
    "input_file=/home/eman/Documents/AUC/ESIM/rpg_vid2e/pie_example/rgb/video_0001.mp4\n",
    "\n",
    "file_cut=/home/eman/Documents/AUC/ESIM/rpg_vid2e/pie_example/rgb/cut_video_0001.mp4\n",
    "\n",
    "file_sd=/home/eman/Documents/AUC/ESIM/rpg_vid2e/pie_example/rgb/video_sd.mp4\n",
    "\n",
    "output_dirpath=/home/eman/Documents/AUC/ESIM/rpg_vid2e/pie_example/original/seq0/imgs/frames_%010d.png\n",
    "\n",
    "output_frames=/home/eman/Documents/AUC/ESIM/rpg_vid2e/pie_example/original/\n",
    "\n",
    "------------------------------\n",
    "\n",
    "generating frames:\n",
    "\n",
    "ffmpeg -i $input_file \"$output_dirpath/%08d.png\n",
    "\n",
    "\n",
    "generating timestamps:\n",
    "\n",
    "python generate_stamps_file.py -i $output_frames -r 1200.0\n",
    "\n",
    "---------------------\n",
    "\n",
    "mkdir -p /tmp/cheetah_example\n",
    "cd /tmp/cheetah_example\n",
    "\n",
    "ffmpeg -i $input_file  -ss 00:02:07 -t 00:00:40 -async 1 -strict -2 $file_cut\n",
    "\n",
    "ffmpeg -i $file_cut-vf scale=640:-1 -crf 0 $file_sd\n",
    "\n",
    "ffmpeg -i $file_sd $output_dirpath"
   ]
  },
  {
   "cell_type": "code",
   "execution_count": null,
   "metadata": {},
   "outputs": [],
   "source": [
    "# variables\n",
    "\n",
    "# videos characteristics\n",
    "fps = 30\n",
    "shape = [256, 320]\n",
    "\n",
    "input_video_path = \"/home/eman/Documents/AUC/ESIM/rpg_vid2e/pie_example/rgb/video_0001.mp4\"\n",
    "\n",
    "# upsampling paths\n",
    "sampling_input_dir = \"/home/eman/Documents/AUC/ESIM/rpg_vid2e/pie_example/original/\"\n",
    "sampling_output_dir = \"/home/eman/Documents/AUC/ESIM/rpg_vid2e/pie_example/upsampled/\"\n",
    "\n",
    "#events paths\n",
    "\n",
    "contrast_threshold_negative = 0.2\n",
    "contrast_threshold_positive = 0.2\n",
    "refractory_period_ns = 0\n",
    "events_input_dir = \"/home/eman/Documents/AUC/ESIM/rpg_vid2e/pie_example/upsampled/\"\n",
    "events_output_dir = \"/home/eman/Documents/AUC/ESIM/rpg_vid2e/pie_example/events/\"\n",
    "\n",
    "# events2rgb\"\n",
    "images_output_folder = \"/home/eman/Documents/AUC/ESIM/rpg_vid2e/pie_example/events2imgs\""
   ]
  },
  {
   "cell_type": "code",
   "execution_count": null,
   "metadata": {},
   "outputs": [],
   "source": [
    "\"\"\"Generating Images from a Video File\n",
    "\n",
    "If you want to convert a video file to a sequence of images:\n",
    "\n",
    "input_file=\"video.mp4\"\n",
    "output_dirpath=\"your_path_to_specify\"\n",
    "ffmpeg -i $input_file \"$output_dirpath/%08d.png\"\"\"\""
   ]
  },
  {
   "cell_type": "code",
   "execution_count": null,
   "metadata": {},
   "outputs": [],
   "source": [
    "pwd"
   ]
  },
  {
   "cell_type": "code",
   "execution_count": null,
   "metadata": {},
   "outputs": [],
   "source": [
    "# variables\n",
    "\n",
    "# videos characteristics\n",
    "fps = 30\n",
    "shape = [256, 320]\n",
    "\n",
    "# upsampling paths\n",
    "\n",
    "input_video_path = \"~/Documents/\"\n",
    "\n",
    "sampling_input_dir = \"\"\n",
    "sampling_output_dir = \"\"\n",
    "\n",
    "#events paths\n",
    "\n",
    "contrast_threshold_negative = 0.2\n",
    "contrast_threshold_positive = 0.2\n",
    "refractory_period_ns = 0\n",
    "events_input_dir = \"\"\n",
    "events_output_dir = \"\"\n",
    "\n",
    "# events2rgb\n",
    "images_output_folder = \"\""
   ]
  },
  {
   "cell_type": "code",
   "execution_count": null,
   "metadata": {},
   "outputs": [],
   "source": []
  },
  {
   "cell_type": "code",
   "execution_count": null,
   "metadata": {},
   "outputs": [],
   "source": []
  }
 ],
 "metadata": {
  "kernelspec": {
   "display_name": "Python 3 (ipykernel)",
   "language": "python",
   "name": "python3"
  },
  "language_info": {
   "codemirror_mode": {
    "name": "ipython",
    "version": 3
   },
   "file_extension": ".py",
   "mimetype": "text/x-python",
   "name": "python",
   "nbconvert_exporter": "python",
   "pygments_lexer": "ipython3",
   "version": "3.9.17"
  }
 },
 "nbformat": 4,
 "nbformat_minor": 5
}
