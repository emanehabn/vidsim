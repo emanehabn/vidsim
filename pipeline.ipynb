{
 "cells": [
  {
   "cell_type": "code",
   "execution_count": null,
   "id": "8ee1b632-a944-471a-81e8-338d297c918d",
   "metadata": {},
   "outputs": [],
   "source": [
    "!python -m ipykernel install --user --name=vid2e"
   ]
  },
  {
   "cell_type": "code",
   "execution_count": 1,
   "id": "e76b084f-0e0f-4af8-ade3-21c54654e1d2",
   "metadata": {},
   "outputs": [
    {
     "ename": "ModuleNotFoundError",
     "evalue": "No module named 'skvideo'",
     "output_type": "error",
     "traceback": [
      "\u001b[0;31m---------------------------------------------------------------------------\u001b[0m",
      "\u001b[0;31mModuleNotFoundError\u001b[0m                       Traceback (most recent call last)",
      "Cell \u001b[0;32mIn[1], line 4\u001b[0m\n\u001b[1;32m      2\u001b[0m \u001b[38;5;66;03m# Must be set before importing torch.\u001b[39;00m\n\u001b[1;32m      3\u001b[0m \u001b[38;5;28;01mfrom\u001b[39;00m \u001b[38;5;21;01mPIL\u001b[39;00m \u001b[38;5;28;01mimport\u001b[39;00m ImageFile\n\u001b[0;32m----> 4\u001b[0m \u001b[38;5;28;01mfrom\u001b[39;00m \u001b[38;5;21;01mupsampling\u001b[39;00m\u001b[38;5;21;01m.\u001b[39;00m\u001b[38;5;21;01mutils\u001b[39;00m \u001b[38;5;28;01mimport\u001b[39;00m Upsampler\n\u001b[1;32m      5\u001b[0m \u001b[38;5;28;01mfrom\u001b[39;00m \u001b[38;5;21;01mesim_torch\u001b[39;00m \u001b[38;5;28;01mimport\u001b[39;00m esim_torch\n\u001b[1;32m      7\u001b[0m \u001b[38;5;28;01mfrom\u001b[39;00m \u001b[38;5;21;01moperator\u001b[39;00m \u001b[38;5;28;01mimport\u001b[39;00m sub\n",
      "File \u001b[0;32m~/Documents/AUC/ESIM/rpg_vid2e/upsampling/utils/__init__.py:1\u001b[0m\n\u001b[0;32m----> 1\u001b[0m \u001b[38;5;28;01mfrom\u001b[39;00m \u001b[38;5;21;01m.\u001b[39;00m\u001b[38;5;21;01mdataset\u001b[39;00m \u001b[38;5;28;01mimport\u001b[39;00m Sequence\n\u001b[1;32m      2\u001b[0m \u001b[38;5;28;01mfrom\u001b[39;00m \u001b[38;5;21;01m.\u001b[39;00m\u001b[38;5;21;01mupsampler\u001b[39;00m \u001b[38;5;28;01mimport\u001b[39;00m Upsampler\n\u001b[1;32m      3\u001b[0m \u001b[38;5;28;01mfrom\u001b[39;00m \u001b[38;5;21;01m.\u001b[39;00m\u001b[38;5;21;01mutils\u001b[39;00m \u001b[38;5;28;01mimport\u001b[39;00m get_sequence_or_none\n",
      "File \u001b[0;32m~/Documents/AUC/ESIM/rpg_vid2e/upsampling/utils/dataset.py:7\u001b[0m\n\u001b[1;32m      5\u001b[0m \u001b[38;5;28;01mfrom\u001b[39;00m \u001b[38;5;21;01mfractions\u001b[39;00m \u001b[38;5;28;01mimport\u001b[39;00m Fraction\n\u001b[1;32m      6\u001b[0m \u001b[38;5;28;01mfrom\u001b[39;00m \u001b[38;5;21;01mPIL\u001b[39;00m \u001b[38;5;28;01mimport\u001b[39;00m Image\n\u001b[0;32m----> 7\u001b[0m \u001b[38;5;28;01mimport\u001b[39;00m \u001b[38;5;21;01mskvideo\u001b[39;00m\u001b[38;5;21;01m.\u001b[39;00m\u001b[38;5;21;01mio\u001b[39;00m\n\u001b[1;32m      8\u001b[0m \u001b[38;5;28;01mimport\u001b[39;00m \u001b[38;5;21;01mnumpy\u001b[39;00m \u001b[38;5;28;01mas\u001b[39;00m \u001b[38;5;21;01mnp\u001b[39;00m\n\u001b[1;32m     10\u001b[0m \u001b[38;5;28;01mfrom\u001b[39;00m \u001b[38;5;21;01m.\u001b[39;00m\u001b[38;5;21;01mconst\u001b[39;00m \u001b[38;5;28;01mimport\u001b[39;00m mean, std, img_formats\n",
      "\u001b[0;31mModuleNotFoundError\u001b[0m: No module named 'skvideo'"
     ]
    }
   ],
   "source": [
    "import os\n",
    "# Must be set before importing torch.\n",
    "from PIL import ImageFile\n",
    "from upsampling.utils import Upsampler\n",
    "from esim_torch import esim_torch\n",
    "\n",
    "from operator import sub\n",
    "import os\n",
    "import cv2\n",
    "import glob\n",
    "import tqdm\n",
    "import torch\n",
    "import glob\n",
    "import numpy as np\n",
    "import matplotlib.pyplot as plt\n",
    "from PIL import Image\n",
    "\n",
    "\n",
    "\n",
    "ImageFile.LOAD_TRUNCATED_IMAGES = True\n",
    "os.environ['CUDA_DEVICE_ORDER'] = 'PCI_BUS_ID'\n",
    "\n",
    "\n"
   ]
  },
  {
   "cell_type": "code",
   "execution_count": null,
   "id": "7acebdf9",
   "metadata": {},
   "outputs": [],
   "source": [
    "import os\n",
    "print(os.__version__())"
   ]
  },
  {
   "cell_type": "code",
   "execution_count": null,
   "id": "e219725e-0ab7-4d98-8d73-4f86b63e4a4f",
   "metadata": {},
   "outputs": [],
   "source": [
    "# variables\n",
    "\n",
    "# videos characteristics\n",
    "fps = 30\n",
    "shape = [256, 320]\n",
    "\n",
    "# upsampling paths\n",
    "sampling_input_dir = \"\"\n",
    "sampling_output_dir = \"\"\n",
    "\n",
    "#events paths\n",
    "\n",
    "contrast_threshold_negative = 0.2\n",
    "contrast_threshold_positive = 0.2\n",
    "refractory_period_ns = 0\n",
    "events_input_dir = \"\"\n",
    "events_output_dir = \"\"\n",
    "\n",
    "# events2rgb\n",
    "images_output_folder = \"\""
   ]
  },
  {
   "cell_type": "code",
   "execution_count": null,
   "id": "0152d132",
   "metadata": {},
   "outputs": [],
   "source": [
    "\"\"\"Generating Images from a Video File\n",
    "\n",
    "If you want to convert a video file to a sequence of images:\n",
    "\n",
    "input_file=\"video.mp4\"\n",
    "output_dirpath=\"your_path_to_specify\"\n",
    "ffmpeg -i $input_file \"$output_dirpath/%08d.png\"\"\"\""
   ]
  },
  {
   "cell_type": "code",
   "execution_count": null,
   "id": "0588eae2",
   "metadata": {},
   "outputs": [],
   "source": [
    "pwd"
   ]
  },
  {
   "cell_type": "code",
   "execution_count": null,
   "id": "25439406",
   "metadata": {},
   "outputs": [],
   "source": [
    "# variables\n",
    "\n",
    "# videos characteristics\n",
    "fps = 30\n",
    "shape = [256, 320]\n",
    "\n",
    "# upsampling paths\n",
    "\n",
    "input_video_path = \"~/Documents/\"\n",
    "\n",
    "sampling_input_dir = \"\"\n",
    "sampling_output_dir = \"\"\n",
    "\n",
    "#events paths\n",
    "\n",
    "contrast_threshold_negative = 0.2\n",
    "contrast_threshold_positive = 0.2\n",
    "refractory_period_ns = 0\n",
    "events_input_dir = \"\"\n",
    "events_output_dir = \"\"\n",
    "\n",
    "# events2rgb\n",
    "images_output_folder = \"\""
   ]
  },
  {
   "cell_type": "code",
   "execution_count": null,
   "id": "6f5a8b68",
   "metadata": {},
   "outputs": [],
   "source": []
  },
  {
   "cell_type": "code",
   "execution_count": null,
   "id": "2051297d",
   "metadata": {},
   "outputs": [],
   "source": []
  }
 ],
 "metadata": {
  "kernelspec": {
   "display_name": "vid2e",
   "language": "python",
   "name": "vid2e"
  },
  "language_info": {
   "codemirror_mode": {
    "name": "ipython",
    "version": 3
   },
   "file_extension": ".py",
   "mimetype": "text/x-python",
   "name": "python",
   "nbconvert_exporter": "python",
   "pygments_lexer": "ipython3",
   "version": "3.8.10"
  }
 },
 "nbformat": 4,
 "nbformat_minor": 5
}
